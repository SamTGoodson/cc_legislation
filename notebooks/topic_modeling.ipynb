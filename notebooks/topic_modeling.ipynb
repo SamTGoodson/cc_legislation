{
 "cells": [
  {
   "cell_type": "code",
   "execution_count": 1,
   "metadata": {},
   "outputs": [],
   "source": [
    "import pandas as pd"
   ]
  },
  {
   "cell_type": "code",
   "execution_count": 2,
   "metadata": {},
   "outputs": [],
   "source": [
    "import nltk\n",
    "from nltk.corpus import stopwords\n",
    "from nltk.tokenize import word_tokenize, sent_tokenize\n",
    "import gensim\n",
    "from gensim import corpora"
   ]
  },
  {
   "cell_type": "code",
   "execution_count": 3,
   "metadata": {},
   "outputs": [],
   "source": [
    "from sklearn.feature_extraction.text import TfidfVectorizer\n",
    "import numpy as np"
   ]
  },
  {
   "cell_type": "code",
   "execution_count": 39,
   "metadata": {},
   "outputs": [],
   "source": [
    "from collections import Counter"
   ]
  },
  {
   "cell_type": "code",
   "execution_count": 66,
   "metadata": {},
   "outputs": [],
   "source": [
    "add_stop = ['local', 'law', 'chair', 'land', 'comittee','application','oversight','committee','application','number','land use',\n",
    "            'resolution','communication','new','york','city','council','councilmember','district','amend','code','administrative',\n",
    "            'relation', 'calling', 'state', 'requiring', 'department', 'pass', 'sign', 'block', 'legislature', 'charter', 'governor',\n",
    "             'section', 'property', 'lot', 'pursuant', 'approving', 'upon', 'establishing', 'borough', 'certain', 'commission', 'amendment', \n",
    "             'public', 'act', 'located', 'program', 'real', 'c', 'n','legislation', 'exemption', 'report', 'submitted','indtroduce']"
   ]
  },
  {
   "cell_type": "code",
   "execution_count": 55,
   "metadata": {},
   "outputs": [],
   "source": [
    "def preprocess_data(documents):\n",
    "    stop_words = set(stopwords.words('english'))\n",
    "    stop_words.update(add_stop)\n",
    "\n",
    "    tokenized_docs = [word_tokenize(doc.lower()) for doc in documents]\n",
    "    processed_docs = [[word for word in doc if word not in stop_words and word.isalpha()] for doc in tokenized_docs]\n",
    "    return processed_docs"
   ]
  },
  {
   "cell_type": "code",
   "execution_count": 26,
   "metadata": {},
   "outputs": [],
   "source": [
    "def top_terms_for_member(member, n=5):\n",
    "    if member in tfidf_df.index:\n",
    "        print(f\"Top {n} terms for {member}:\")\n",
    "        member_tfidf = tfidf_df.loc[member]\n",
    "        top_terms = member_tfidf.nlargest(n)\n",
    "        for term in top_terms.index:\n",
    "            print(term)\n",
    "    else:\n",
    "        print(f\"No data for individual: {member}\")"
   ]
  },
  {
   "cell_type": "code",
   "execution_count": 17,
   "metadata": {},
   "outputs": [],
   "source": [
    "def join_tokens(token_list):\n",
    "    return ' '.join(token_list)"
   ]
  },
  {
   "cell_type": "markdown",
   "metadata": {},
   "source": [
    "#### Impot and clean legislation tables"
   ]
  },
  {
   "cell_type": "code",
   "execution_count": 12,
   "metadata": {},
   "outputs": [],
   "source": [
    "try:\n",
    "    leg_2024 = pd.read_csv(\"../data/cy2023csv.csv\", encoding='ISO-8859-1')\n",
    "except UnicodeDecodeError:\n",
    "    try:\n",
    "        leg_2024 = pd.read_csv(\"../data/cy2023csv.csv\", encoding='cp1252')\n",
    "    except UnicodeDecodeError:\n",
    "        pass"
   ]
  },
  {
   "cell_type": "code",
   "execution_count": 13,
   "metadata": {},
   "outputs": [],
   "source": [
    "try:\n",
    "    leg_2023 = pd.read_csv('../data/cy2023csv.csv', encoding='ISO-8859-1')\n",
    "except UnicodeDecodeError:\n",
    "    try:\n",
    "        leg_2023 = pd.read_csv('../data/cy2023csv.csv', encoding='cp1252')\n",
    "    except UnicodeDecodeError:\n",
    "        pass"
   ]
  },
  {
   "cell_type": "code",
   "execution_count": 56,
   "metadata": {},
   "outputs": [],
   "source": [
    "all_leg = pd.concat([leg_2023, leg_2024])"
   ]
  },
  {
   "cell_type": "code",
   "execution_count": 57,
   "metadata": {},
   "outputs": [],
   "source": [
    "all_leg['processed_text'] = all_leg['Title'].apply(lambda x: preprocess_data([x])[0])"
   ]
  },
  {
   "cell_type": "code",
   "execution_count": 58,
   "metadata": {},
   "outputs": [],
   "source": [
    "all_leg = all_leg[['Type','Status','Committee','Prime Sponsor','processed_text']]\n",
    "all_leg = all_leg.rename(columns={'Prime Sponsor':'prime_sponsor'})\n",
    "all_leg = all_leg.dropna()"
   ]
  },
  {
   "cell_type": "code",
   "execution_count": 59,
   "metadata": {},
   "outputs": [],
   "source": [
    "all_tokens = [token for sublist in all_leg['processed_text'] for token in sublist]\n",
    "word_freq = Counter(all_tokens)\n",
    "\n",
    "most_common_words = word_freq.most_common(40)  "
   ]
  },
  {
   "cell_type": "code",
   "execution_count": 60,
   "metadata": {},
   "outputs": [
    {
     "name": "stdout",
     "output_type": "stream",
     "text": [
      "'community', 'housing', 'services', 'zoning', 'street', 'school', 'education', 'health', 'private', 'map', 'tax', 'would', 'n', 'planning', 'bronx', 'provide', 'avenue', 'manhattan', 'use', 'designation', 'finance', 'lots', 'preconsidered', 'development', 'service', 'brooklyn', 'taxes', 'information', 'decision', 'reporting', 'within', 'building', 'prohibiting', 'repeal', 'schools', 'emergency', 'queens', 'office', 'mental', 'states'\n"
     ]
    }
   ],
   "source": [
    "common_words_list = [word for word, freq in most_common_words]\n",
    "common_words_string = ', '.join(f\"'{word}'\" for word in common_words_list)\n",
    "print(common_words_string)"
   ]
  },
  {
   "cell_type": "markdown",
   "metadata": {},
   "source": [
    "#### tf-idf"
   ]
  },
  {
   "cell_type": "code",
   "execution_count": 61,
   "metadata": {},
   "outputs": [],
   "source": [
    "all_leg['joined_text'] = all_leg['processed_text'].apply(join_tokens)"
   ]
  },
  {
   "cell_type": "code",
   "execution_count": 62,
   "metadata": {},
   "outputs": [],
   "source": [
    "grouped_df = all_leg.groupby('prime_sponsor')['joined_text'].apply(' '.join).reset_index()"
   ]
  },
  {
   "cell_type": "code",
   "execution_count": 20,
   "metadata": {},
   "outputs": [],
   "source": [
    "tfidf = TfidfVectorizer()"
   ]
  },
  {
   "cell_type": "code",
   "execution_count": 63,
   "metadata": {},
   "outputs": [],
   "source": [
    "tfidf_matrix = tfidf.fit_transform(grouped_df['joined_text'])"
   ]
  },
  {
   "cell_type": "code",
   "execution_count": 64,
   "metadata": {},
   "outputs": [],
   "source": [
    "feature_names = tfidf.get_feature_names_out()\n",
    "tfidf_df = pd.DataFrame(tfidf_matrix.toarray(), columns=feature_names, index=grouped_df['prime_sponsor'])"
   ]
  },
  {
   "cell_type": "code",
   "execution_count": 65,
   "metadata": {},
   "outputs": [
    {
     "name": "stdout",
     "output_type": "stream",
     "text": [
      "Top 5 terms for Rita C. Joseph:\n",
      "leadership\n",
      "teams\n",
      "student\n",
      "students\n",
      "introduce\n"
     ]
    }
   ],
   "source": [
    "top_terms_for_member('Rita C. Joseph',5)"
   ]
  },
  {
   "cell_type": "markdown",
   "metadata": {},
   "source": [
    "##### LDA"
   ]
  },
  {
   "cell_type": "code",
   "execution_count": null,
   "metadata": {},
   "outputs": [],
   "source": []
  }
 ],
 "metadata": {
  "kernelspec": {
   "display_name": "Python 3",
   "language": "python",
   "name": "python3"
  },
  "language_info": {
   "codemirror_mode": {
    "name": "ipython",
    "version": 3
   },
   "file_extension": ".py",
   "mimetype": "text/x-python",
   "name": "python",
   "nbconvert_exporter": "python",
   "pygments_lexer": "ipython3",
   "version": "3.11.4"
  }
 },
 "nbformat": 4,
 "nbformat_minor": 2
}
