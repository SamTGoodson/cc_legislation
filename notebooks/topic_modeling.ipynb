{
 "cells": [
  {
   "cell_type": "code",
   "execution_count": 1,
   "metadata": {},
   "outputs": [],
   "source": [
    "import pandas as pd"
   ]
  },
  {
   "cell_type": "code",
   "execution_count": 2,
   "metadata": {},
   "outputs": [],
   "source": [
    "import nltk\n",
    "from nltk.corpus import stopwords\n",
    "from nltk.tokenize import word_tokenize, sent_tokenize\n",
    "import gensim\n",
    "from gensim import corpora"
   ]
  },
  {
   "cell_type": "code",
   "execution_count": 3,
   "metadata": {},
   "outputs": [],
   "source": [
    "from sklearn.feature_extraction.text import TfidfVectorizer\n",
    "import numpy as np"
   ]
  },
  {
   "cell_type": "code",
   "execution_count": 4,
   "metadata": {},
   "outputs": [],
   "source": [
    "from sklearn.cluster import KMeans"
   ]
  },
  {
   "cell_type": "code",
   "execution_count": 5,
   "metadata": {},
   "outputs": [],
   "source": [
    "from collections import Counter"
   ]
  },
  {
   "cell_type": "code",
   "execution_count": 6,
   "metadata": {},
   "outputs": [],
   "source": [
    "import pyLDAvis.gensim_models as gensimvis\n",
    "import pyLDAvis"
   ]
  },
  {
   "cell_type": "code",
   "execution_count": 7,
   "metadata": {},
   "outputs": [
    {
     "name": "stderr",
     "output_type": "stream",
     "text": [
      "c:\\Users\\samtg\\AppData\\Local\\Programs\\Python\\Python311\\Lib\\site-packages\\tqdm\\auto.py:21: TqdmWarning: IProgress not found. Please update jupyter and ipywidgets. See https://ipywidgets.readthedocs.io/en/stable/user_install.html\n",
      "  from .autonotebook import tqdm as notebook_tqdm\n"
     ]
    }
   ],
   "source": [
    "from transformers import BertTokenizer, BertModel\n",
    "import torch"
   ]
  },
  {
   "cell_type": "code",
   "execution_count": 8,
   "metadata": {},
   "outputs": [],
   "source": [
    "add_stop = ['local', 'law', 'chair', 'land', 'comittee','application','oversight','committee','application','number','land use',\n",
    "            'resolution','communication','new','york','city','council','councilmember','district','amend','code','administrative',\n",
    "            'relation', 'calling', 'state', 'requiring', 'department', 'pass', 'sign', 'block', 'legislature', 'charter', 'governor',\n",
    "             'section', 'property', 'lot', 'pursuant', 'approving', 'upon', 'establishing', 'borough', 'certain', 'commission', 'amendment', \n",
    "             'public', 'act', 'located', 'program', 'real', 'c', 'n','legislation', 'exemption', 'report', 'submitted','introduce',\n",
    "             'preconsidered','manhattan','staten','island','bronx','brooklyn','queens','borough']"
   ]
  },
  {
   "cell_type": "code",
   "execution_count": 9,
   "metadata": {},
   "outputs": [],
   "source": [
    "def preprocess_data(documents):\n",
    "    stop_words = set(stopwords.words('english'))\n",
    "    stop_words.update(add_stop)\n",
    "\n",
    "    tokenized_docs = [word_tokenize(doc.lower()) for doc in documents]\n",
    "    processed_docs = [[word for word in doc if word not in stop_words and word.isalpha()] for doc in tokenized_docs]\n",
    "    return processed_docs"
   ]
  },
  {
   "cell_type": "code",
   "execution_count": 10,
   "metadata": {},
   "outputs": [],
   "source": [
    "def top_terms_for_member(member, n=5):\n",
    "    if member in tfidf_df.index:\n",
    "        print(f\"Top {n} terms for {member}:\")\n",
    "        member_tfidf = tfidf_df.loc[member]\n",
    "        top_terms = member_tfidf.nlargest(n)\n",
    "        for term in top_terms.index:\n",
    "            print(term)\n",
    "    else:\n",
    "        print(f\"No data for individual: {member}\")"
   ]
  },
  {
   "cell_type": "code",
   "execution_count": 11,
   "metadata": {},
   "outputs": [],
   "source": [
    "def join_tokens(token_list):\n",
    "    return ' '.join(token_list)"
   ]
  },
  {
   "cell_type": "markdown",
   "metadata": {},
   "source": [
    "#### Impot and clean legislation tables"
   ]
  },
  {
   "cell_type": "code",
   "execution_count": 12,
   "metadata": {},
   "outputs": [],
   "source": [
    "try:\n",
    "    leg_2024 = pd.read_csv(\"../data/cy2023csv.csv\", encoding='ISO-8859-1')\n",
    "except UnicodeDecodeError:\n",
    "    try:\n",
    "        leg_2024 = pd.read_csv(\"../data/cy2023csv.csv\", encoding='cp1252')\n",
    "    except UnicodeDecodeError:\n",
    "        pass"
   ]
  },
  {
   "cell_type": "code",
   "execution_count": 13,
   "metadata": {},
   "outputs": [],
   "source": [
    "try:\n",
    "    leg_2023 = pd.read_csv('../data/cy2023csv.csv', encoding='ISO-8859-1')\n",
    "except UnicodeDecodeError:\n",
    "    try:\n",
    "        leg_2023 = pd.read_csv('../data/cy2023csv.csv', encoding='cp1252')\n",
    "    except UnicodeDecodeError:\n",
    "        pass"
   ]
  },
  {
   "cell_type": "code",
   "execution_count": 14,
   "metadata": {},
   "outputs": [],
   "source": [
    "try:\n",
    "    leg_2022 = pd.read_csv('../data/cy2022csv.csv', encoding='ISO-8859-1')\n",
    "except UnicodeDecodeError:\n",
    "    try:\n",
    "        leg_2022 = pd.read_csv('../data/cy2022csv.csv', encoding='cp1252')\n",
    "    except UnicodeDecodeError:\n",
    "        pass"
   ]
  },
  {
   "cell_type": "code",
   "execution_count": 15,
   "metadata": {},
   "outputs": [],
   "source": [
    "all_leg = pd.concat([leg_2022,leg_2023, leg_2024])"
   ]
  },
  {
   "cell_type": "code",
   "execution_count": 16,
   "metadata": {},
   "outputs": [],
   "source": [
    "all_leg['processed_text'] = all_leg['Title'].apply(lambda x: preprocess_data([x])[0])"
   ]
  },
  {
   "cell_type": "code",
   "execution_count": 17,
   "metadata": {},
   "outputs": [],
   "source": [
    "all_leg = all_leg[['Type','Status','Committee','Prime Sponsor','processed_text']]\n",
    "all_leg = all_leg.rename(columns={'Prime Sponsor':'prime_sponsor'})\n",
    "all_leg = all_leg.dropna()"
   ]
  },
  {
   "cell_type": "code",
   "execution_count": 17,
   "metadata": {},
   "outputs": [],
   "source": [
    "all_tokens = [token for sublist in all_leg['processed_text'] for token in sublist]\n",
    "word_freq = Counter(all_tokens)\n",
    "\n",
    "most_common_words = word_freq.most_common(40)  "
   ]
  },
  {
   "cell_type": "code",
   "execution_count": 89,
   "metadata": {},
   "outputs": [
    {
     "name": "stdout",
     "output_type": "stream",
     "text": [
      "'community', 'housing', 'zoning', 'street', 'planning', 'development', 'services', 'avenue', 'map', 'decision', 'school', 'use', 'designation', 'health', 'sections', 'area', 'education', 'private', 'tax', 'within', 'lots', 'finance', 'would', 'special', 'provide', 'preservation', 'llc', 'rezoning', 'member', 'ulurp', 'taxes', 'service', 'information', 'reporting', 'building', 'action', 'changing', 'repeal', 'prohibiting', 'urban'\n"
     ]
    }
   ],
   "source": [
    "common_words_list = [word for word, freq in most_common_words]\n",
    "common_words_string = ', '.join(f\"'{word}'\" for word in common_words_list)\n",
    "print(common_words_string)"
   ]
  },
  {
   "cell_type": "code",
   "execution_count": 18,
   "metadata": {},
   "outputs": [],
   "source": [
    "all_leg['joined_text'] = all_leg['processed_text'].apply(join_tokens)"
   ]
  },
  {
   "cell_type": "code",
   "execution_count": 19,
   "metadata": {},
   "outputs": [],
   "source": [
    "all_leg.to_csv('../data/processed_leg.csv', index=False)"
   ]
  },
  {
   "cell_type": "markdown",
   "metadata": {},
   "source": [
    "#### tf-idf"
   ]
  },
  {
   "cell_type": "code",
   "execution_count": 73,
   "metadata": {},
   "outputs": [],
   "source": [
    "grouped_df = all_leg.groupby('prime_sponsor')['joined_text'].apply(' '.join).reset_index()"
   ]
  },
  {
   "cell_type": "code",
   "execution_count": 20,
   "metadata": {},
   "outputs": [],
   "source": [
    "tfidf = TfidfVectorizer()"
   ]
  },
  {
   "cell_type": "code",
   "execution_count": 74,
   "metadata": {},
   "outputs": [],
   "source": [
    "tfidf_matrix = tfidf.fit_transform(grouped_df['joined_text'])"
   ]
  },
  {
   "cell_type": "code",
   "execution_count": 75,
   "metadata": {},
   "outputs": [],
   "source": [
    "feature_names = tfidf.get_feature_names_out()\n",
    "tfidf_df = pd.DataFrame(tfidf_matrix.toarray(), columns=feature_names, index=grouped_df['prime_sponsor'])"
   ]
  },
  {
   "cell_type": "code",
   "execution_count": 76,
   "metadata": {},
   "outputs": [
    {
     "name": "stdout",
     "output_type": "stream",
     "text": [
      "Top 5 terms for Rita C. Joseph:\n",
      "teams\n",
      "students\n",
      "bathrooms\n",
      "student\n",
      "introduce\n"
     ]
    }
   ],
   "source": [
    "top_terms_for_member('Rita C. Joseph',5)"
   ]
  },
  {
   "cell_type": "markdown",
   "metadata": {},
   "source": [
    "#### clustering "
   ]
  },
  {
   "cell_type": "code",
   "execution_count": 96,
   "metadata": {},
   "outputs": [],
   "source": [
    "num_clusters = 5 \n",
    "km = KMeans(n_clusters=num_clusters)"
   ]
  },
  {
   "cell_type": "code",
   "execution_count": 97,
   "metadata": {},
   "outputs": [
    {
     "name": "stderr",
     "output_type": "stream",
     "text": [
      "c:\\Users\\samtg\\AppData\\Local\\Programs\\Python\\Python311\\Lib\\site-packages\\sklearn\\cluster\\_kmeans.py:1416: FutureWarning: The default value of `n_init` will change from 10 to 'auto' in 1.4. Set the value of `n_init` explicitly to suppress the warning\n",
      "  super()._check_params_vs_input(X, default_n_init=10)\n"
     ]
    },
    {
     "data": {
      "text/html": [
       "<style>#sk-container-id-2 {color: black;}#sk-container-id-2 pre{padding: 0;}#sk-container-id-2 div.sk-toggleable {background-color: white;}#sk-container-id-2 label.sk-toggleable__label {cursor: pointer;display: block;width: 100%;margin-bottom: 0;padding: 0.3em;box-sizing: border-box;text-align: center;}#sk-container-id-2 label.sk-toggleable__label-arrow:before {content: \"▸\";float: left;margin-right: 0.25em;color: #696969;}#sk-container-id-2 label.sk-toggleable__label-arrow:hover:before {color: black;}#sk-container-id-2 div.sk-estimator:hover label.sk-toggleable__label-arrow:before {color: black;}#sk-container-id-2 div.sk-toggleable__content {max-height: 0;max-width: 0;overflow: hidden;text-align: left;background-color: #f0f8ff;}#sk-container-id-2 div.sk-toggleable__content pre {margin: 0.2em;color: black;border-radius: 0.25em;background-color: #f0f8ff;}#sk-container-id-2 input.sk-toggleable__control:checked~div.sk-toggleable__content {max-height: 200px;max-width: 100%;overflow: auto;}#sk-container-id-2 input.sk-toggleable__control:checked~label.sk-toggleable__label-arrow:before {content: \"▾\";}#sk-container-id-2 div.sk-estimator input.sk-toggleable__control:checked~label.sk-toggleable__label {background-color: #d4ebff;}#sk-container-id-2 div.sk-label input.sk-toggleable__control:checked~label.sk-toggleable__label {background-color: #d4ebff;}#sk-container-id-2 input.sk-hidden--visually {border: 0;clip: rect(1px 1px 1px 1px);clip: rect(1px, 1px, 1px, 1px);height: 1px;margin: -1px;overflow: hidden;padding: 0;position: absolute;width: 1px;}#sk-container-id-2 div.sk-estimator {font-family: monospace;background-color: #f0f8ff;border: 1px dotted black;border-radius: 0.25em;box-sizing: border-box;margin-bottom: 0.5em;}#sk-container-id-2 div.sk-estimator:hover {background-color: #d4ebff;}#sk-container-id-2 div.sk-parallel-item::after {content: \"\";width: 100%;border-bottom: 1px solid gray;flex-grow: 1;}#sk-container-id-2 div.sk-label:hover label.sk-toggleable__label {background-color: #d4ebff;}#sk-container-id-2 div.sk-serial::before {content: \"\";position: absolute;border-left: 1px solid gray;box-sizing: border-box;top: 0;bottom: 0;left: 50%;z-index: 0;}#sk-container-id-2 div.sk-serial {display: flex;flex-direction: column;align-items: center;background-color: white;padding-right: 0.2em;padding-left: 0.2em;position: relative;}#sk-container-id-2 div.sk-item {position: relative;z-index: 1;}#sk-container-id-2 div.sk-parallel {display: flex;align-items: stretch;justify-content: center;background-color: white;position: relative;}#sk-container-id-2 div.sk-item::before, #sk-container-id-2 div.sk-parallel-item::before {content: \"\";position: absolute;border-left: 1px solid gray;box-sizing: border-box;top: 0;bottom: 0;left: 50%;z-index: -1;}#sk-container-id-2 div.sk-parallel-item {display: flex;flex-direction: column;z-index: 1;position: relative;background-color: white;}#sk-container-id-2 div.sk-parallel-item:first-child::after {align-self: flex-end;width: 50%;}#sk-container-id-2 div.sk-parallel-item:last-child::after {align-self: flex-start;width: 50%;}#sk-container-id-2 div.sk-parallel-item:only-child::after {width: 0;}#sk-container-id-2 div.sk-dashed-wrapped {border: 1px dashed gray;margin: 0 0.4em 0.5em 0.4em;box-sizing: border-box;padding-bottom: 0.4em;background-color: white;}#sk-container-id-2 div.sk-label label {font-family: monospace;font-weight: bold;display: inline-block;line-height: 1.2em;}#sk-container-id-2 div.sk-label-container {text-align: center;}#sk-container-id-2 div.sk-container {/* jupyter's `normalize.less` sets `[hidden] { display: none; }` but bootstrap.min.css set `[hidden] { display: none !important; }` so we also need the `!important` here to be able to override the default hidden behavior on the sphinx rendered scikit-learn.org. See: https://github.com/scikit-learn/scikit-learn/issues/21755 */display: inline-block !important;position: relative;}#sk-container-id-2 div.sk-text-repr-fallback {display: none;}</style><div id=\"sk-container-id-2\" class=\"sk-top-container\"><div class=\"sk-text-repr-fallback\"><pre>KMeans(n_clusters=5)</pre><b>In a Jupyter environment, please rerun this cell to show the HTML representation or trust the notebook. <br />On GitHub, the HTML representation is unable to render, please try loading this page with nbviewer.org.</b></div><div class=\"sk-container\" hidden><div class=\"sk-item\"><div class=\"sk-estimator sk-toggleable\"><input class=\"sk-toggleable__control sk-hidden--visually\" id=\"sk-estimator-id-2\" type=\"checkbox\" checked><label for=\"sk-estimator-id-2\" class=\"sk-toggleable__label sk-toggleable__label-arrow\">KMeans</label><div class=\"sk-toggleable__content\"><pre>KMeans(n_clusters=5)</pre></div></div></div></div></div>"
      ],
      "text/plain": [
       "KMeans(n_clusters=5)"
      ]
     },
     "execution_count": 97,
     "metadata": {},
     "output_type": "execute_result"
    }
   ],
   "source": [
    "km.fit(tfidf_df)"
   ]
  },
  {
   "cell_type": "code",
   "execution_count": 98,
   "metadata": {},
   "outputs": [],
   "source": [
    "clusters = km.labels_.tolist()"
   ]
  },
  {
   "cell_type": "code",
   "execution_count": 101,
   "metadata": {},
   "outputs": [],
   "source": [
    "name_cluster_mapping = {name: cluster for name, cluster in zip(tfidf_df.index, clusters)}"
   ]
  },
  {
   "cell_type": "code",
   "execution_count": 108,
   "metadata": {},
   "outputs": [
    {
     "name": "stdout",
     "output_type": "stream",
     "text": [
      "Tiffany Cabán is not found in any cluster\n"
     ]
    }
   ],
   "source": [
    "name = \"Tiffany Cabán\"  \n",
    "cluster_label = name_cluster_mapping.get(name, None)\n",
    "if cluster_label is not None:\n",
    "    print(f\"{name} belongs to cluster {cluster_label}\")\n",
    "else:\n",
    "    print(f\"{name} is not found in any cluster\")"
   ]
  },
  {
   "cell_type": "code",
   "execution_count": 107,
   "metadata": {},
   "outputs": [
    {
     "name": "stdout",
     "output_type": "stream",
     "text": [
      "Names in cluster 1:\n",
      "Bill Perkins\n",
      "Daniel Dromm\n",
      "David M. Carr\n",
      "Erik D. Bottcher\n",
      "Kalman Yeger\n",
      "Keith Powers\n",
      "Mark Levine\n",
      "Sandy Nurse\n",
      "Shaun Abreu\n",
      "Vickie Paladino\n"
     ]
    }
   ],
   "source": [
    "cluster_name_mapping = {}\n",
    "for name, cluster in zip(tfidf_df.index, clusters):\n",
    "    if cluster in cluster_name_mapping:\n",
    "        cluster_name_mapping[cluster].append(name)\n",
    "    else:\n",
    "        cluster_name_mapping[cluster] = [name]\n",
    "\n",
    "cluster_label_to_check = 1\n",
    "if cluster_label_to_check in cluster_name_mapping:\n",
    "    names_in_cluster = cluster_name_mapping[cluster_label_to_check]\n",
    "    print(f\"Names in cluster {cluster_label_to_check}:\")\n",
    "    for name in names_in_cluster:\n",
    "        print(name)\n",
    "else:\n",
    "    print(f\"No names found in cluster {cluster_label_to_check}\")"
   ]
  },
  {
   "cell_type": "markdown",
   "metadata": {},
   "source": [
    "##### LDA"
   ]
  },
  {
   "cell_type": "code",
   "execution_count": 110,
   "metadata": {},
   "outputs": [],
   "source": [
    "dictionary = corpora.Dictionary(all_leg['processed_text'])"
   ]
  },
  {
   "cell_type": "code",
   "execution_count": 111,
   "metadata": {},
   "outputs": [],
   "source": [
    "doc_term_matrix = [dictionary.doc2bow(doc) for doc in all_leg['processed_text']]"
   ]
  },
  {
   "cell_type": "code",
   "execution_count": 113,
   "metadata": {},
   "outputs": [],
   "source": [
    "LDA = gensim.models.ldamodel.LdaModel\n",
    "lda_model = LDA(corpus=doc_term_matrix, id2word=dictionary, num_topics=5, random_state=100, chunksize=1000, passes=50)"
   ]
  },
  {
   "cell_type": "code",
   "execution_count": 114,
   "metadata": {},
   "outputs": [
    {
     "name": "stdout",
     "output_type": "stream",
     "text": [
      "Topic 0: 0.023*\"planning\" + 0.021*\"decision\" + 0.017*\"zoning\" + 0.013*\"map\" + 0.013*\"ulurp\" + 0.009*\"building\" + 0.009*\"increase\" + 0.008*\"designation\" + 0.008*\"text\" + 0.008*\"training\"\n",
      "\n",
      "Topic 1: 0.038*\"community\" + 0.024*\"development\" + 0.024*\"housing\" + 0.018*\"zoning\" + 0.018*\"avenue\" + 0.016*\"street\" + 0.015*\"sections\" + 0.015*\"area\" + 0.012*\"rezoning\" + 0.012*\"llc\"\n",
      "\n",
      "Topic 2: 0.017*\"school\" + 0.010*\"states\" + 0.010*\"education\" + 0.010*\"president\" + 0.010*\"congress\" + 0.009*\"united\" + 0.008*\"parking\" + 0.008*\"services\" + 0.007*\"authority\" + 0.007*\"schools\"\n",
      "\n",
      "Topic 3: 0.021*\"housing\" + 0.017*\"services\" + 0.016*\"private\" + 0.013*\"finance\" + 0.013*\"repeal\" + 0.010*\"taxes\" + 0.010*\"force\" + 0.010*\"study\" + 0.009*\"reporting\" + 0.009*\"health\"\n",
      "\n",
      "Topic 4: 0.012*\"would\" + 0.011*\"service\" + 0.011*\"police\" + 0.008*\"provide\" + 0.007*\"year\" + 0.007*\"health\" + 0.007*\"community\" + 0.007*\"mental\" + 0.007*\"water\" + 0.007*\"management\"\n",
      "\n"
     ]
    }
   ],
   "source": [
    "for i, topic in lda_model.print_topics(-1):\n",
    "    print(f\"Topic {i}: {topic}\\n\")"
   ]
  },
  {
   "cell_type": "code",
   "execution_count": 119,
   "metadata": {},
   "outputs": [],
   "source": [
    "pyLDAvis.enable_notebook()\n",
    "vis = gensimvis.prepare(lda_model, doc_term_matrix, dictionary)"
   ]
  },
  {
   "cell_type": "code",
   "execution_count": 143,
   "metadata": {},
   "outputs": [],
   "source": [
    "def assign_topics(document):\n",
    "    doc_topics = lda_model.get_document_topics(document)\n",
    "    if doc_topics:\n",
    "        max_prob_topic = max(doc_topics, key=lambda x: x[1])\n",
    "        return max_prob_topic[0]  \n",
    "    else:\n",
    "        return -1"
   ]
  },
  {
   "cell_type": "code",
   "execution_count": 150,
   "metadata": {},
   "outputs": [],
   "source": [
    "# add col to all_leg with topic number\n",
    "all_leg['topic'] = all_leg['processed_text'].apply(lambda x: assign_topics(dictionary.doc2bow(x)))"
   ]
  },
  {
   "cell_type": "markdown",
   "metadata": {},
   "source": [
    "#### BERT"
   ]
  },
  {
   "cell_type": "code",
   "execution_count": 19,
   "metadata": {},
   "outputs": [
    {
     "name": "stderr",
     "output_type": "stream",
     "text": [
      "model.safetensors: 100%|██████████| 440M/440M [01:00<00:00, 7.30MB/s] \n",
      "c:\\Users\\samtg\\AppData\\Local\\Programs\\Python\\Python311\\Lib\\site-packages\\huggingface_hub\\file_download.py:149: UserWarning: `huggingface_hub` cache-system uses symlinks by default to efficiently store duplicated files but your machine does not support them in C:\\Users\\samtg\\.cache\\huggingface\\hub\\models--bert-base-uncased. Caching files will still work but in a degraded version that might require more space on your disk. This warning can be disabled by setting the `HF_HUB_DISABLE_SYMLINKS_WARNING` environment variable. For more details, see https://huggingface.co/docs/huggingface_hub/how-to-cache#limitations.\n",
      "To support symlinks on Windows, you either need to activate Developer Mode or to run Python as an administrator. In order to see activate developer mode, see this article: https://docs.microsoft.com/en-us/windows/apps/get-started/enable-your-device-for-development\n",
      "  warnings.warn(message)\n"
     ]
    }
   ],
   "source": [
    "tokenizer = BertTokenizer.from_pretrained('bert-base-uncased')\n",
    "model = BertModel.from_pretrained('bert-base-uncased')"
   ]
  },
  {
   "cell_type": "code",
   "execution_count": 21,
   "metadata": {},
   "outputs": [],
   "source": [
    "processed_texts = all_leg['joined_text']"
   ]
  },
  {
   "cell_type": "code",
   "execution_count": 23,
   "metadata": {},
   "outputs": [],
   "source": [
    "bert_inputs = []\n",
    "\n",
    "for text in processed_texts:\n",
    "    inputs = tokenizer(text, return_tensors='pt', padding=True, truncation=True, max_length=512)\n",
    "    bert_inputs.append(inputs)"
   ]
  },
  {
   "cell_type": "code",
   "execution_count": null,
   "metadata": {},
   "outputs": [],
   "source": [
    "bert_outputs = []\n",
    "\n",
    "for inputs in bert_inputs:\n",
    "    outputs = model(**inputs)\n",
    "    bert_outputs.append(outputs)"
   ]
  }
 ],
 "metadata": {
  "kernelspec": {
   "display_name": "Python 3",
   "language": "python",
   "name": "python3"
  },
  "language_info": {
   "codemirror_mode": {
    "name": "ipython",
    "version": 3
   },
   "file_extension": ".py",
   "mimetype": "text/x-python",
   "name": "python",
   "nbconvert_exporter": "python",
   "pygments_lexer": "ipython3",
   "version": "3.11.4"
  }
 },
 "nbformat": 4,
 "nbformat_minor": 2
}
